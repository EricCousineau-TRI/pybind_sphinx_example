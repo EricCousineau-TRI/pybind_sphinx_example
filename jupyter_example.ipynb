{
 "cells": [
  {
   "cell_type": "code",
   "execution_count": 2,
   "metadata": {},
   "outputs": [],
   "source": [
    "import sphinx_example\n",
    "import other_module"
   ]
  },
  {
   "cell_type": "code",
   "execution_count": 6,
   "metadata": {},
   "outputs": [
    {
     "name": "stdout",
     "output_type": "stream",
     "text": [
      "Help on module other_module:\n",
      "\n",
      "NAME\n",
      "    other_module - Yo\n",
      "\n",
      "FILE\n",
      "    /home/eacousineau/proj/tri/proj/bindings/pybind_sphinx_example/other_module.py\n",
      "\n",
      "FUNCTIONS\n",
      "    CalcPointsGeometricJacobianExpressedInWorld()\n",
      "        Given a set of points `Qi` with fixed position vectors `p_BQi` in a frame\n",
      "        B, (that is, their time derivative `ᴮd/dt(p_BQi)` in frame B is zero),\n",
      "        this method computes the geometric Jacobian `Jv_WQi` defined by:\n",
      "        <pre>\n",
      "          v_WQi(q, v) = Jv_WQi(q)⋅v\n",
      "        </pre>\n",
      "        where `p_WQi` is the position vector in the world frame for each point\n",
      "        `Qi` in the input set, `v_WQi(q, v)` is the translational velocity of\n",
      "        point `Qi` in the world frame W and q and v are the vectors of generalized\n",
      "        position and velocity, respectively. Since the spatial velocity of each\n",
      "        point `Qi` is linear in the generalized velocities, the geometric\n",
      "        Jacobian `Jv_WQi` is a function of the generalized coordinates q only.\n",
      "        \n",
      "        @param[in] context\n",
      "          The context containing the state of the model. It stores the\n",
      "          generalized positions q.\n",
      "        @param[in] frame_B\n",
      "          The positions `p_BQi` of each point in the input set are measured and\n",
      "          expressed in this frame B and are constant (fixed) in this frame.\n",
      "        @param[in] p_BQi_set\n",
      "          A matrix with the fixed position of a set of points `Qi` measured and\n",
      "          expressed in `frame_B`.\n",
      "          Each column of this matrix contains the position vector `p_BQi` for a\n",
      "          point `Qi` measured and expressed in frame B. Therefore this input\n",
      "          matrix lives in ℝ³ˣⁿᵖ with `np` the number of points in the set.\n",
      "        @param[out] p_WQi_set\n",
      "          The output positions of each point `Qi` now computed as measured and\n",
      "          expressed in frame W. These positions are computed in the process of\n",
      "          computing the geometric Jacobian `J_WQi` and therefore external storage\n",
      "          must be provided.\n",
      "          The output `p_WQi_set` **must** have the same size\n",
      "          as the input set `p_BQi_set` or otherwise this method throws a\n",
      "          std::runtime_error exception. That is `p_WQi_set` **must** be in\n",
      "          `ℝ³ˣⁿᵖ`.\n",
      "        @param[out] Jv_WQi\n",
      "          The geometric Jacobian `Jv_WQi(q)`, function of the generalized\n",
      "          positions q only. This Jacobian relates the translational velocity\n",
      "          `v_WQi` of each point `Qi` in the input set by: <pre>\n",
      "            `v_WQi(q, v) = Jv_WQi(q)⋅v`\n",
      "          </pre>\n",
      "          so that `v_WQi` is a column vector of size `3⋅np` concatenating the\n",
      "          velocity of all points `Qi` in the same order they were given in the\n",
      "          input set. Therefore `J_WQi` is a matrix of size `3⋅np x nv`, with `nv`\n",
      "          the number of generalized velocities. On input, matrix `J_WQi` **must**\n",
      "          have size `3⋅np x nv` or this method throws a std::runtime_error\n",
      "          exception.\n",
      "        \n",
      "        @throws an exception if the output `p_WQi_set` is nullptr or does not have\n",
      "        the same size as the input array `p_BQi_set`.\n",
      "        @throws an exception if `Jv_WQi` is nullptr or if it does not have the\n",
      "        appropriate size, see documentation for `Jv_WQi` for details.\n",
      "    \n",
      "    SparseMatrixToRowColumnValueVectors()\n",
      "        For a sparse matrix, return the row indices, the column indices, and value of\n",
      "        For example, the matrix\n",
      "        \\f[\n",
      "        mat = \\begin{bmatrix} 1 & 0 & 2\\\\\n",
      "                              0 & 3 & 4\\end{bmatrix}\n",
      "        \\f]\n",
      "        has\n",
      "        \\f[\n",
      "        row = \\begin{bmatrix} 0 & 1 & 0 & 1\\end{bmatrix}\\\\\n",
      "        col = \\begin{bmatrix} 0 & 1 & 2 & 2\\end{bmatrix}\\\\\n",
      "        val = \\begin{bmatrix} 1 & 3 & 2 & 4\\end{bmatrix}\n",
      "        \\f]\n",
      "        @param[in] matrix the input sparse matrix\n",
      "        @param[out] row_indices a vector containing the row indices of the\n",
      "        non-zero entries\n",
      "        @param[out] col_indices a vector containing the column indices of the\n",
      "        non-zero entries\n",
      "        @param[out] val a vector containing the values of the non-zero entries.\n",
      "\n",
      "\n"
     ]
    }
   ],
   "source": [
    "help(other_module)"
   ]
  },
  {
   "cell_type": "code",
   "execution_count": 8,
   "metadata": {},
   "outputs": [],
   "source": [
    "?other_module.CalcPointsGeometricJacobianExpressedInWorld"
   ]
  },
  {
   "cell_type": "code",
   "execution_count": null,
   "metadata": {},
   "outputs": [],
   "source": []
  }
 ],
 "metadata": {
  "kernelspec": {
   "display_name": "Python 2",
   "language": "python",
   "name": "python2"
  },
  "language_info": {
   "codemirror_mode": {
    "name": "ipython",
    "version": 2
   },
   "file_extension": ".py",
   "mimetype": "text/x-python",
   "name": "python",
   "nbconvert_exporter": "python",
   "pygments_lexer": "ipython2",
   "version": "2.7.12"
  }
 },
 "nbformat": 4,
 "nbformat_minor": 2
}
